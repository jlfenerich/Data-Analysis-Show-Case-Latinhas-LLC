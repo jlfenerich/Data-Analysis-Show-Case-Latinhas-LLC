{
 "cells": [
  {
   "cell_type": "markdown",
   "metadata": {},
   "source": [
    "# Importar Bibliotecas"
   ]
  },
  {
   "cell_type": "code",
   "execution_count": 1,
   "metadata": {},
   "outputs": [],
   "source": [
    "import pandas as pd\n",
    "import numpy as np\n",
    "import random\n",
    "from datetime import datetime, timedelta\n",
    "import psycopg2\n",
    "from psycopg2 import OperationalError\n",
    "import os\n",
    "from dotenv import load_dotenv"
   ]
  },
  {
   "cell_type": "markdown",
   "metadata": {},
   "source": [
    "# Definindo parâmetros para a geração de dados"
   ]
  },
  {
   "cell_type": "code",
   "execution_count": 2,
   "metadata": {},
   "outputs": [],
   "source": [
    "np.random.seed(0)  # Para garantir a reprodutibilidade\n",
    "tipos_cerveja = [\"Pilsen\", \"IPA\", \"Stout\", \"Lager\", \"Ale\", \"Wheat Beer\", \"Porter\"]\n",
    "quantidade_min, quantidade_max = 500, 5000  # Quantidade produzida por lote"
   ]
  },
  {
   "cell_type": "markdown",
   "metadata": {},
   "source": [
    "# Gerando dados de produção (Lotes)"
   ]
  },
  {
   "cell_type": "code",
   "execution_count": 3,
   "metadata": {},
   "outputs": [],
   "source": [
    "dados_producao = pd.DataFrame({\n",
    "    \"ID_Lote\": range(1, 251),\n",
    "    \"Data_Producao\": pd.date_range(start=\"2020-01-01\", periods=250, freq='D'),\n",
    "    \"Tipo_Cerveja\": np.random.choice(tipos_cerveja, 250),\n",
    "    \"Quantidade_Produzida\": np.random.randint(quantidade_min, quantidade_max, 250),\n",
    "    \"Custo_Producao\": np.random.uniform(1000, 5000, 250),  # Adicionando custo de produção\n",
    "    \"Lote_Ingredientes\": np.random.randint(100, 200, 250),  # Adicionando lote de ingredientes\n",
    "    \"Tempo_Fermentacao\": np.random.randint(1, 14, 250),  # Adicionando tempo de fermentação em dias\n",
    "    \"Data_Validade\": pd.date_range(start=\"2021-01-01\", periods=250, freq='30D')  # Adicionando data de validade\n",
    "})"
   ]
  },
  {
   "cell_type": "markdown",
   "metadata": {},
   "source": [
    "# Dados de vendas (2000 entradas ao longo de 3 anos)"
   ]
  },
  {
   "cell_type": "code",
   "execution_count": 6,
   "metadata": {},
   "outputs": [],
   "source": [
    "dados_vendas = pd.DataFrame({\n",
    "    \"ID_Venda\": range(1, 2001),\n",
    "    \"Data_Venda\": pd.date_range(start=\"2020-01-01\", periods=2000, freq='D'),\n",
    "    \"ID_Cliente\": np.random.randint(1, 500, 2000),  # Adicionando ID do cliente\n",
    "    \"ID_Lote\": np.random.choice(dados_producao[\"ID_Lote\"], 2000),\n",
    "    \"Quantidade_Vendida\": np.random.randint(1, 100, 2000),\n",
    "    \"Preco_Venda\": np.random.uniform(5, 50, 2000),\n",
    "    \"Canal_Venda\": np.random.choice([\"Loja Física\", \"Online\", \"Distribuidor\"], 2000)  # Adicionando canal de venda\n",
    "})"
   ]
  },
  {
   "cell_type": "markdown",
   "metadata": {},
   "source": [
    "# Dados de devolução (13% das vendas)"
   ]
  },
  {
   "cell_type": "code",
   "execution_count": 7,
   "metadata": {},
   "outputs": [],
   "source": [
    "quantidade_devolucoes = int(0.13 * len(dados_vendas))\n",
    "dados_devolucao = dados_vendas.sample(n=quantidade_devolucoes).copy()\n",
    "dados_devolucao = dados_devolucao.rename(columns={\"Quantidade_Vendida\": \"Quantidade_Devolvida\"})\n",
    "dados_devolucao[\"ID_Devolucao\"] = range(1, quantidade_devolucoes + 1)\n",
    "dados_devolucao[\"Motivo_Devolucao\"] = np.random.choice([\"Defeito\", \"Insatisfação\", \"Outro\"], quantidade_devolucoes)\n",
    "dados_devolucao[\"Estado_Produto\"] = np.random.choice([\"Bom\", \"Danificado\", \"Expirado\"], quantidade_devolucoes)\n",
    "dados_devolucao[\"Reembolso_Emitido\"] = np.random.uniform(5, 50, quantidade_devolucoes)"
   ]
  },
  {
   "cell_type": "markdown",
   "metadata": {},
   "source": [
    "# Dados de feedback (gerados aleatoriamente)"
   ]
  },
  {
   "cell_type": "code",
   "execution_count": 10,
   "metadata": {},
   "outputs": [],
   "source": [
    "quantidade_feedbacks = random.randint(100, 300)\n",
    "dados_feedback = pd.DataFrame({\n",
    "    \"ID_Feedback\": range(1, quantidade_feedbacks + 1),\n",
    "    \"Data_Feedback\": pd.date_range(start=\"2020-01-01\", periods=quantidade_feedbacks, freq='D'),\n",
    "    \"ID_Cliente\": np.random.randint(1, 500, quantidade_feedbacks),\n",
    "    \"Tipo_Feedback\": np.random.choice([\"Produto\", \"Serviço\", \"Entrega\"], quantidade_feedbacks),\n",
    "    \"Descricao_Feedback\": np.random.choice([\"Excelente\", \"Bom\", \"Médio\", \"Ruim\", \"Péssimo\"], quantidade_feedbacks),\n",
    "    \"Resposta_Cervejaria\": np.random.choice([\"Resolvido\", \"Pendente\", \"Ignorado\"], quantidade_feedbacks)\n",
    "})"
   ]
  },
  {
   "cell_type": "markdown",
   "metadata": {},
   "source": [
    "#### corrigindo feedback \n",
    "Excluindo ID_Cliente pois ocorreu conflito."
   ]
  },
  {
   "cell_type": "code",
   "execution_count": 16,
   "metadata": {},
   "outputs": [],
   "source": [
    "# Supondo que 'dados_feedback' já foi criado com a coluna 'ID_Cliente'\n",
    "# Remover a coluna 'ID_Cliente'\n",
    "if 'ID_Cliente' in dados_feedback.columns:\n",
    "    dados_feedback = dados_feedback.drop(columns=['ID_Cliente'])"
   ]
  },
  {
   "cell_type": "code",
   "execution_count": 17,
   "metadata": {},
   "outputs": [
    {
     "name": "stdout",
     "output_type": "stream",
     "text": [
      "Conexão com o PostgreSQL estabelecida\n"
     ]
    }
   ],
   "source": [
    "# Carrega as variáveis de ambiente do arquivo .env\n",
    "load_dotenv()\n",
    "\n",
    "# Obtém as informações de conexão do arquivo .env\n",
    "host = os.getenv('DB_HOST', 'localhost')\n",
    "porta = os.getenv('DB_PORT', '5432')\n",
    "dbname = os.getenv('DB_NAME', 'postgres')\n",
    "usuario = os.getenv('DB_USER', 'postgres')\n",
    "senha = os.getenv('DB_PASSWORD', 'default_password')\n",
    "\n",
    "def create_connection(host_name, port, database_name, user_name, user_password):\n",
    "    connection = None\n",
    "    try:\n",
    "        connection = psycopg2.connect(\n",
    "            host=host_name,\n",
    "            port=port,\n",
    "            dbname=database_name,\n",
    "            user=user_name,\n",
    "            password=user_password\n",
    "        )\n",
    "        print(\"Conexão com o PostgreSQL estabelecida\")\n",
    "    except OperationalError as e:\n",
    "        print(f\"Ocorreu um erro ao conectar ao PostgreSQL: {e}\")\n",
    "    return connection\n",
    "\n",
    "# Estabelecendo a conexão\n",
    "conn = create_connection(host, porta, dbname, usuario, senha)\n",
    "\n",
    "# Lembre-se de fechar a conexão quando terminar\n",
    "# conn.close()"
   ]
  },
  {
   "cell_type": "code",
   "execution_count": 18,
   "metadata": {},
   "outputs": [],
   "source": [
    "def create_tables(connection):\n",
    "    cursor = connection.cursor()\n",
    "\n",
    "    # Criação da tabela de produção\n",
    "    cursor.execute(\"\"\"\n",
    "    CREATE TABLE IF NOT EXISTS Producao (\n",
    "        ID_Lote INTEGER PRIMARY KEY,\n",
    "        Tipo_Cerveja TEXT,\n",
    "        Data_Producao DATE,\n",
    "        Quantidade_Produzida INTEGER,\n",
    "        Custo_Producao REAL,\n",
    "        Lote_Ingredientes TEXT,\n",
    "        Tempo_Fermentacao INTEGER,\n",
    "        Data_Validade DATE\n",
    "    )\n",
    "    \"\"\")\n",
    "\n",
    "    # Criação da tabela de vendas\n",
    "    cursor.execute(\"\"\"\n",
    "    CREATE TABLE IF NOT EXISTS Vendas (\n",
    "        ID_Venda INTEGER PRIMARY KEY,\n",
    "        Data_Venda DATE,\n",
    "        ID_Cliente INTEGER,\n",
    "        ID_Lote INTEGER,\n",
    "        Quantidade_Vendida INTEGER,\n",
    "        Preco_Venda REAL,\n",
    "        Canal_Venda TEXT,\n",
    "        FOREIGN KEY (ID_Lote) REFERENCES Producao (ID_Lote)\n",
    "    )\n",
    "    \"\"\")\n",
    "\n",
    "    # Criação da tabela de devoluções\n",
    "    cursor.execute(\"\"\"\n",
    "    CREATE TABLE IF NOT EXISTS Devolucoes (\n",
    "        ID_Devolucao INTEGER PRIMARY KEY,\n",
    "        ID_Venda INTEGER,\n",
    "        Data_Devolucao DATE,\n",
    "        Motivo_Devolucao TEXT,\n",
    "        Quantidade_Devolvida INTEGER,\n",
    "        Estado_Produto TEXT,\n",
    "        Reembolso_Emitido REAL,\n",
    "        FOREIGN KEY (ID_Venda) REFERENCES Vendas (ID_Venda)\n",
    "    )\n",
    "    \"\"\")\n",
    "\n",
    "    # Criação da tabela de feedback\n",
    "    cursor.execute(\"\"\"\n",
    "    CREATE TABLE IF NOT EXISTS Feedback (\n",
    "        ID_Feedback INTEGER PRIMARY KEY,\n",
    "        Data_Feedback DATE,\n",
    "        ID_Cliente INTEGER,\n",
    "        Tipo_Feedback TEXT,\n",
    "        Descricao_Feedback TEXT,\n",
    "        Resposta_Cervejaria TEXT,\n",
    "        ID_Venda INTEGER\n",
    "    )\n",
    "    \"\"\")\n",
    "\n",
    "    connection.commit()\n",
    "    cursor.close()"
   ]
  },
  {
   "cell_type": "code",
   "execution_count": 19,
   "metadata": {},
   "outputs": [
    {
     "name": "stdout",
     "output_type": "stream",
     "text": [
      "Erro ao inserir dados na tabela Producao: duplicate key value violates unique constraint \"producao_pkey\"\n",
      "DETAIL:  Key (id_lote)=(1) already exists.\n",
      "\n",
      "Erro ao inserir dados na tabela Vendas: duplicate key value violates unique constraint \"vendas_pkey\"\n",
      "DETAIL:  Key (id_venda)=(1) already exists.\n",
      "\n",
      "Erro ao inserir dados na tabela Devolucoes: duplicate key value violates unique constraint \"devolucoes_pkey\"\n",
      "DETAIL:  Key (id_devolucao)=(1) already exists.\n",
      "\n"
     ]
    }
   ],
   "source": [
    "def insert_data(df, table_name, connection):\n",
    "    cursor = connection.cursor()\n",
    "    placeholders = ', '.join(['%s'] * len(df.columns))\n",
    "    columns = ', '.join(df.columns)\n",
    "    query = f\"INSERT INTO {table_name} ({columns}) VALUES ({placeholders})\"\n",
    "    try:\n",
    "        for row in df.itertuples(index=False, name=None):\n",
    "            cursor.execute(query, row)\n",
    "        connection.commit()\n",
    "    except psycopg2.DatabaseError as e:\n",
    "        print(f\"Erro ao inserir dados na tabela {table_name}: {e}\")\n",
    "        connection.rollback()  # Reverter a transação em caso de erro\n",
    "    finally:\n",
    "        cursor.close()\n",
    "\n",
    "# Inserir dados\n",
    "insert_data(dados_producao, 'Producao', conn)\n",
    "insert_data(dados_vendas, 'Vendas', conn)\n",
    "insert_data(dados_devolucao[['ID_Devolucao', 'ID_Venda', 'Quantidade_Devolvida', 'Motivo_Devolucao']], 'Devolucoes', conn)\n",
    "insert_data(dados_feedback, 'Feedback', conn)"
   ]
  },
  {
   "cell_type": "code",
   "execution_count": 11,
   "metadata": {},
   "outputs": [],
   "source": [
    "conn.close()"
   ]
  }
 ],
 "metadata": {
  "kernelspec": {
   "display_name": "DataScienceEnv",
   "language": "python",
   "name": "python3"
  },
  "language_info": {
   "codemirror_mode": {
    "name": "ipython",
    "version": 3
   },
   "file_extension": ".py",
   "mimetype": "text/x-python",
   "name": "python",
   "nbconvert_exporter": "python",
   "pygments_lexer": "ipython3",
   "version": "3.10.12"
  }
 },
 "nbformat": 4,
 "nbformat_minor": 2
}
