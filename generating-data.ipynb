{
 "cells": [
  {
   "cell_type": "code",
   "execution_count": 1,
   "metadata": {},
   "outputs": [],
   "source": [
    "import pandas as pd\n",
    "import numpy as np\n",
    "import random\n",
    "from datetime import datetime, timedelta\n",
    "import psycopg2\n",
    "from psycopg2 import OperationalError\n",
    "import os\n",
    "from dotenv import load_dotenv"
   ]
  },
  {
   "cell_type": "code",
   "execution_count": 3,
   "metadata": {},
   "outputs": [],
   "source": [
    "# Definindo parâmetros para a geração de dados\n",
    "np.random.seed(0)  # Para garantir a reprodutibilidade\n",
    "tipos_cerveja = [\"Pilsen\", \"IPA\", \"Stout\", \"Lager\", \"Ale\", \"Wheat Beer\", \"Porter\"]\n",
    "quantidade_min, quantidade_max = 500, 5000  # Quantidade produzida por lote"
   ]
  },
  {
   "cell_type": "code",
   "execution_count": 4,
   "metadata": {},
   "outputs": [],
   "source": [
    "# Gerando dados de produção (Lotes)\n",
    "dados_producao = pd.DataFrame({\n",
    "    \"ID_Lote\": range(1, 251),\n",
    "    \"Tipo_Cerveja\": np.random.choice(tipos_cerveja, 250),\n",
    "    \"Data_Producao\": pd.date_range(start=\"2020-01-01\", periods=250, freq='D'),\n",
    "    \"Quantidade_Produzida\": np.random.randint(quantidade_min, quantidade_max, 250)\n",
    "})"
   ]
  },
  {
   "cell_type": "code",
   "execution_count": 5,
   "metadata": {},
   "outputs": [],
   "source": [
    "# Dados de vendas (2000 entradas ao longo de 3 anos)\n",
    "datas_vendas = pd.date_range(start=\"2020-01-01\", end=\"2022-12-31\", freq='D')\n",
    "vendas_por_data = np.random.choice(datas_vendas, 2000)\n",
    "dados_vendas = pd.DataFrame({\n",
    "    \"ID_Venda\": range(1, 2001),\n",
    "    \"ID_Lote\": np.random.choice(dados_producao[\"ID_Lote\"], 2000),\n",
    "    \"Data_Venda\": vendas_por_data,\n",
    "    \"Quantidade_Vendida\": np.random.randint(1, 100, 2000),  # Quantidade vendida por transação\n",
    "    \"Preco_Venda\": np.random.uniform(5, 50, 2000)  # Preço aleatório entre 5 e 50\n",
    "})"
   ]
  },
  {
   "cell_type": "code",
   "execution_count": 6,
   "metadata": {},
   "outputs": [],
   "source": [
    "# Dados de devolução (13% das vendas)\n",
    "quantidade_devolucoes = int(0.13 * len(dados_vendas))\n",
    "dados_devolucao = dados_vendas.sample(n=quantidade_devolucoes).copy()\n",
    "dados_devolucao.rename(columns={\"Quantidade_Vendida\": \"Quantidade_Devolvida\"}, inplace=True)\n",
    "dados_devolucao[\"ID_Devolucao\"] = range(1, quantidade_devolucoes + 1)\n",
    "dados_devolucao[\"Motivo_Devolucao\"] = np.random.choice([\"Defeito\", \"Insatisfação\", \"Outro\"], quantidade_devolucoes)\n"
   ]
  },
  {
   "cell_type": "code",
   "execution_count": 7,
   "metadata": {},
   "outputs": [
    {
     "data": {
      "text/plain": [
       "(   ID_Lote Tipo_Cerveja Data_Producao  Quantidade_Produzida\n",
       " 0        1          Ale    2020-01-01                  4887\n",
       " 1        2   Wheat Beer    2020-01-02                  4281\n",
       " 2        3       Pilsen    2020-01-03                  3275\n",
       " 3        4        Lager    2020-01-04                  3103\n",
       " 4        5        Lager    2020-01-05                  1662,\n",
       "    ID_Venda  ID_Lote Data_Venda  Quantidade_Vendida  Preco_Venda\n",
       " 0         1      244 2022-09-25                  11    23.210412\n",
       " 1         2       94 2022-03-26                   5    19.827663\n",
       " 2         3       59 2020-04-14                  74    16.968799\n",
       " 3         4      112 2021-10-02                  91    19.087046\n",
       " 4         5      154 2020-11-23                   9    46.587291,\n",
       "       ID_Venda  ID_Lote Data_Venda  Quantidade_Devolvida  Preco_Venda  \\\n",
       " 1375      1376      121 2022-06-25                    85    46.704618   \n",
       " 1482      1483      176 2022-12-24                    52    33.156435   \n",
       " 1632      1633       39 2020-12-02                    16    41.460984   \n",
       " 720        721      195 2020-10-28                    44    47.798124   \n",
       " 1666      1667      241 2022-12-15                     9    39.899159   \n",
       " \n",
       "       ID_Devolucao Motivo_Devolucao  \n",
       " 1375             1            Outro  \n",
       " 1482             2          Defeito  \n",
       " 1632             3          Defeito  \n",
       " 720              4            Outro  \n",
       " 1666             5          Defeito  ,\n",
       "    ID_Feedback  ID_Venda Data_Feedback  Classificacao Comentarios\n",
       " 0            1       959    2022-10-01              2   Muito bom\n",
       " 1            2      1798    2020-12-17              1     Regular\n",
       " 2            3       325    2022-04-08              3  Muito ruim\n",
       " 3            4      1580    2020-05-07              3  Muito ruim\n",
       " 4            5       422    2020-01-31              2  Muito ruim)"
      ]
     },
     "execution_count": 7,
     "metadata": {},
     "output_type": "execute_result"
    }
   ],
   "source": [
    "# Dados de feedback (gerados aleatoriamente)\n",
    "quantidade_feedbacks = random.randint(100, 300)  # Quantidade aleatória de feedbacks\n",
    "dados_feedback = pd.DataFrame({\n",
    "    \"ID_Feedback\": range(1, quantidade_feedbacks + 1),\n",
    "    \"ID_Venda\": np.random.choice(dados_vendas[\"ID_Venda\"], quantidade_feedbacks),\n",
    "    \"Data_Feedback\": np.random.choice(datas_vendas, quantidade_feedbacks),\n",
    "    \"Classificacao\": np.random.randint(1, 6, quantidade_feedbacks),  # Classificação de 1 a 5\n",
    "    \"Comentarios\": np.random.choice([\"Muito bom\", \"Bom\", \"Regular\", \"Ruim\", \"Muito ruim\"], quantidade_feedbacks)\n",
    "})\n",
    "\n",
    "dados_producao.head(), dados_vendas.head(), dados_devolucao.head(), dados_feedback.head()"
   ]
  },
  {
   "cell_type": "code",
   "execution_count": 8,
   "metadata": {},
   "outputs": [
    {
     "name": "stdout",
     "output_type": "stream",
     "text": [
      "Conexão com o PostgreSQL estabelecida\n"
     ]
    }
   ],
   "source": [
    "# Carrega as variáveis de ambiente do arquivo .env\n",
    "load_dotenv()\n",
    "\n",
    "# Obtém as informações de conexão do arquivo .env\n",
    "host = os.getenv('DB_HOST', 'localhost')\n",
    "porta = os.getenv('DB_PORT', '5432')\n",
    "dbname = os.getenv('DB_NAME', 'postgres')\n",
    "usuario = os.getenv('DB_USER', 'postgres')\n",
    "senha = os.getenv('DB_PASSWORD', 'default_password')\n",
    "\n",
    "def create_connection(host_name, port, database_name, user_name, user_password):\n",
    "    connection = None\n",
    "    try:\n",
    "        connection = psycopg2.connect(\n",
    "            host=host_name,\n",
    "            port=port,\n",
    "            dbname=database_name,\n",
    "            user=user_name,\n",
    "            password=user_password\n",
    "        )\n",
    "        print(\"Conexão com o PostgreSQL estabelecida\")\n",
    "    except OperationalError as e:\n",
    "        print(f\"Ocorreu um erro ao conectar ao PostgreSQL: {e}\")\n",
    "    return connection\n",
    "\n",
    "# Estabelecendo a conexão\n",
    "conn = create_connection(host, porta, dbname, usuario, senha)\n",
    "\n",
    "# Lembre-se de fechar a conexão quando terminar\n",
    "# conn.close()"
   ]
  },
  {
   "cell_type": "code",
   "execution_count": 9,
   "metadata": {},
   "outputs": [],
   "source": [
    "def create_tables(connection):\n",
    "    cursor = connection.cursor()\n",
    "\n",
    "    # Criação da tabela de produção\n",
    "    cursor.execute(\"\"\"\n",
    "    CREATE TABLE IF NOT EXISTS Producao (\n",
    "        ID_Lote INTEGER PRIMARY KEY,\n",
    "        Tipo_Cerveja TEXT,\n",
    "        Data_Producao DATE,\n",
    "        Quantidade_Produzida INTEGER\n",
    "    )\n",
    "    \"\"\")\n",
    "\n",
    "    # Criação da tabela de vendas\n",
    "    cursor.execute(\"\"\"\n",
    "    CREATE TABLE IF NOT EXISTS Vendas (\n",
    "        ID_Venda INTEGER PRIMARY KEY,\n",
    "        ID_Lote INTEGER,\n",
    "        Data_Venda DATE,\n",
    "        Quantidade_Vendida INTEGER,\n",
    "        Preco_Venda REAL,\n",
    "        FOREIGN KEY (ID_Lote) REFERENCES Producao (ID_Lote)\n",
    "    )\n",
    "    \"\"\")\n",
    "\n",
    "    # Criação da tabela de devoluções\n",
    "    cursor.execute(\"\"\"\n",
    "    CREATE TABLE IF NOT EXISTS Devolucoes (\n",
    "        ID_Devolucao INTEGER PRIMARY KEY,\n",
    "        ID_Venda INTEGER,\n",
    "        Quantidade_Devolvida INTEGER,\n",
    "        Motivo_Devolucao TEXT,\n",
    "        FOREIGN KEY (ID_Venda) REFERENCES Vendas (ID_Venda)\n",
    "    )\n",
    "    \"\"\")\n",
    "\n",
    "    # Criação da tabela de feedback\n",
    "    cursor.execute(\"\"\"\n",
    "    CREATE TABLE IF NOT EXISTS Feedback (\n",
    "        ID_Feedback INTEGER PRIMARY KEY,\n",
    "        ID_Venda INTEGER,\n",
    "        Data_Feedback DATE,\n",
    "        Classificacao INTEGER,\n",
    "        Comentarios TEXT,\n",
    "        FOREIGN KEY (ID_Venda) REFERENCES Vendas (ID_Venda)\n",
    "    )\n",
    "    \"\"\")\n",
    "\n",
    "    connection.commit()\n",
    "    cursor.close()\n",
    "\n",
    "create_tables(conn)\n"
   ]
  },
  {
   "cell_type": "code",
   "execution_count": 10,
   "metadata": {},
   "outputs": [
    {
     "ename": "UniqueViolation",
     "evalue": "duplicate key value violates unique constraint \"producao_pkey\"\nDETAIL:  Key (id_lote)=(1) already exists.\n",
     "output_type": "error",
     "traceback": [
      "\u001b[1;31m---------------------------------------------------------------------------\u001b[0m",
      "\u001b[1;31mUniqueViolation\u001b[0m                           Traceback (most recent call last)",
      "\u001b[1;32mc:\\Users\\jlfen\\OneDrive\\Documentos\\JoaoKasten\\005_applied_projects\\job_search_activitites\\MSi-automacoes-industriais\\generating-data.ipynb Cell 9\u001b[0m line \u001b[0;36m1\n\u001b[0;32m      <a href='vscode-notebook-cell:/c%3A/Users/jlfen/OneDrive/Documentos/JoaoKasten/005_applied_projects/job_search_activitites/MSi-automacoes-industriais/generating-data.ipynb#X11sZmlsZQ%3D%3D?line=8'>9</a>\u001b[0m     cursor\u001b[39m.\u001b[39mclose()\n\u001b[0;32m     <a href='vscode-notebook-cell:/c%3A/Users/jlfen/OneDrive/Documentos/JoaoKasten/005_applied_projects/job_search_activitites/MSi-automacoes-industriais/generating-data.ipynb#X11sZmlsZQ%3D%3D?line=10'>11</a>\u001b[0m \u001b[39m# Inserir dados\u001b[39;00m\n\u001b[1;32m---> <a href='vscode-notebook-cell:/c%3A/Users/jlfen/OneDrive/Documentos/JoaoKasten/005_applied_projects/job_search_activitites/MSi-automacoes-industriais/generating-data.ipynb#X11sZmlsZQ%3D%3D?line=11'>12</a>\u001b[0m insert_data(dados_producao, \u001b[39m'\u001b[39;49m\u001b[39mProducao\u001b[39;49m\u001b[39m'\u001b[39;49m, conn)\n\u001b[0;32m     <a href='vscode-notebook-cell:/c%3A/Users/jlfen/OneDrive/Documentos/JoaoKasten/005_applied_projects/job_search_activitites/MSi-automacoes-industriais/generating-data.ipynb#X11sZmlsZQ%3D%3D?line=12'>13</a>\u001b[0m insert_data(dados_vendas, \u001b[39m'\u001b[39m\u001b[39mVendas\u001b[39m\u001b[39m'\u001b[39m, conn)\n\u001b[0;32m     <a href='vscode-notebook-cell:/c%3A/Users/jlfen/OneDrive/Documentos/JoaoKasten/005_applied_projects/job_search_activitites/MSi-automacoes-industriais/generating-data.ipynb#X11sZmlsZQ%3D%3D?line=13'>14</a>\u001b[0m insert_data(dados_devolucao[[\u001b[39m'\u001b[39m\u001b[39mID_Devolucao\u001b[39m\u001b[39m'\u001b[39m, \u001b[39m'\u001b[39m\u001b[39mID_Venda\u001b[39m\u001b[39m'\u001b[39m, \u001b[39m'\u001b[39m\u001b[39mQuantidade_Devolvida\u001b[39m\u001b[39m'\u001b[39m, \u001b[39m'\u001b[39m\u001b[39mMotivo_Devolucao\u001b[39m\u001b[39m'\u001b[39m]], \u001b[39m'\u001b[39m\u001b[39mDevolucoes\u001b[39m\u001b[39m'\u001b[39m, conn)\n",
      "\u001b[1;32mc:\\Users\\jlfen\\OneDrive\\Documentos\\JoaoKasten\\005_applied_projects\\job_search_activitites\\MSi-automacoes-industriais\\generating-data.ipynb Cell 9\u001b[0m line \u001b[0;36m7\n\u001b[0;32m      <a href='vscode-notebook-cell:/c%3A/Users/jlfen/OneDrive/Documentos/JoaoKasten/005_applied_projects/job_search_activitites/MSi-automacoes-industriais/generating-data.ipynb#X11sZmlsZQ%3D%3D?line=4'>5</a>\u001b[0m query \u001b[39m=\u001b[39m \u001b[39mf\u001b[39m\u001b[39m\"\u001b[39m\u001b[39mINSERT INTO \u001b[39m\u001b[39m{\u001b[39;00mtable_name\u001b[39m}\u001b[39;00m\u001b[39m (\u001b[39m\u001b[39m{\u001b[39;00mcolumns\u001b[39m}\u001b[39;00m\u001b[39m) VALUES (\u001b[39m\u001b[39m{\u001b[39;00mplaceholders\u001b[39m}\u001b[39;00m\u001b[39m)\u001b[39m\u001b[39m\"\u001b[39m\n\u001b[0;32m      <a href='vscode-notebook-cell:/c%3A/Users/jlfen/OneDrive/Documentos/JoaoKasten/005_applied_projects/job_search_activitites/MSi-automacoes-industriais/generating-data.ipynb#X11sZmlsZQ%3D%3D?line=5'>6</a>\u001b[0m \u001b[39mfor\u001b[39;00m row \u001b[39min\u001b[39;00m df\u001b[39m.\u001b[39mitertuples(index\u001b[39m=\u001b[39m\u001b[39mFalse\u001b[39;00m, name\u001b[39m=\u001b[39m\u001b[39mNone\u001b[39;00m):\n\u001b[1;32m----> <a href='vscode-notebook-cell:/c%3A/Users/jlfen/OneDrive/Documentos/JoaoKasten/005_applied_projects/job_search_activitites/MSi-automacoes-industriais/generating-data.ipynb#X11sZmlsZQ%3D%3D?line=6'>7</a>\u001b[0m     cursor\u001b[39m.\u001b[39;49mexecute(query, row)\n\u001b[0;32m      <a href='vscode-notebook-cell:/c%3A/Users/jlfen/OneDrive/Documentos/JoaoKasten/005_applied_projects/job_search_activitites/MSi-automacoes-industriais/generating-data.ipynb#X11sZmlsZQ%3D%3D?line=7'>8</a>\u001b[0m connection\u001b[39m.\u001b[39mcommit()\n\u001b[0;32m      <a href='vscode-notebook-cell:/c%3A/Users/jlfen/OneDrive/Documentos/JoaoKasten/005_applied_projects/job_search_activitites/MSi-automacoes-industriais/generating-data.ipynb#X11sZmlsZQ%3D%3D?line=8'>9</a>\u001b[0m cursor\u001b[39m.\u001b[39mclose()\n",
      "\u001b[1;31mUniqueViolation\u001b[0m: duplicate key value violates unique constraint \"producao_pkey\"\nDETAIL:  Key (id_lote)=(1) already exists.\n"
     ]
    }
   ],
   "source": [
    "def insert_data(df, table_name, connection):\n",
    "    cursor = connection.cursor()\n",
    "    placeholders = ', '.join(['%s'] * len(df.columns))\n",
    "    columns = ', '.join(df.columns)\n",
    "    query = f\"INSERT INTO {table_name} ({columns}) VALUES ({placeholders})\"\n",
    "    for row in df.itertuples(index=False, name=None):\n",
    "        cursor.execute(query, row)\n",
    "    connection.commit()\n",
    "    cursor.close()\n",
    "\n",
    "# Inserir dados\n",
    "insert_data(dados_producao, 'Producao', conn)\n",
    "insert_data(dados_vendas, 'Vendas', conn)\n",
    "insert_data(dados_devolucao[['ID_Devolucao', 'ID_Venda', 'Quantidade_Devolvida', 'Motivo_Devolucao']], 'Devolucoes', conn)\n",
    "insert_data(dados_feedback, 'Feedback', conn)"
   ]
  },
  {
   "cell_type": "code",
   "execution_count": 11,
   "metadata": {},
   "outputs": [],
   "source": [
    "conn.close()"
   ]
  }
 ],
 "metadata": {
  "kernelspec": {
   "display_name": "DataScienceEnv",
   "language": "python",
   "name": "python3"
  },
  "language_info": {
   "codemirror_mode": {
    "name": "ipython",
    "version": 3
   },
   "file_extension": ".py",
   "mimetype": "text/x-python",
   "name": "python",
   "nbconvert_exporter": "python",
   "pygments_lexer": "ipython3",
   "version": "3.10.12"
  }
 },
 "nbformat": 4,
 "nbformat_minor": 2
}
