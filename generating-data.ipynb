{
 "cells": [
  {
   "cell_type": "markdown",
   "metadata": {},
   "source": [
    "# Importar Bibliotecas"
   ]
  },
  {
   "cell_type": "code",
   "execution_count": 47,
   "metadata": {},
   "outputs": [],
   "source": [
    "import pandas as pd\n",
    "import numpy as np\n",
    "import random\n",
    "from datetime import datetime, timedelta\n",
    "import psycopg2\n",
    "from psycopg2 import OperationalError\n",
    "import os\n",
    "from dotenv import load_dotenv"
   ]
  },
  {
   "cell_type": "markdown",
   "metadata": {},
   "source": [
    "# Configurações iniciais"
   ]
  },
  {
   "cell_type": "code",
   "execution_count": 48,
   "metadata": {},
   "outputs": [],
   "source": [
    "load_dotenv()\n",
    "np.random.seed(0)  # Para garantir a reprodutibilidade"
   ]
  },
  {
   "cell_type": "markdown",
   "metadata": {},
   "source": [
    "# Definindo parâmetros para a geração de dados"
   ]
  },
  {
   "cell_type": "code",
   "execution_count": 49,
   "metadata": {},
   "outputs": [],
   "source": [
    "# Configurações iniciais\n",
    "np.random.seed(0)  # Para garantir a reprodutibilidade\n",
    "\n",
    "# Parâmetros de geração de dados\n",
    "tipos_cerveja = [\"Ale\", \"Wheat Beer\", \"Pilsen\", \"Lager\", \"IPA\", \"Stout\", \"Porter\"]\n",
    "quantidades = {\n",
    "    \"Ale\": (3000, 7000),\n",
    "    \"Wheat Beer\": (2000, 6000),\n",
    "    \"Pilsen\": (2500, 7500),\n",
    "    \"Lager\": (3000, 8000),\n",
    "    \"IPA\": (2000, 5000),\n",
    "    \"Stout\": (1500, 4500),\n",
    "    \"Porter\": (1000, 4000),\n",
    "}\n",
    "custos_por_unidade = {\n",
    "    \"Ale\": (0.10, 0.30),\n",
    "    \"Wheat Beer\": (0.15, 0.45),\n",
    "    \"Pilsen\": (0.10, 0.30),\n",
    "    \"Lager\": (0.08, 0.25),\n",
    "    \"IPA\": (0.20, 0.50),\n",
    "    \"Stout\": (0.25, 0.55),\n",
    "    \"Porter\": (0.30, 0.60),\n",
    "}\n",
    "precos_minimos = {\n",
    "    \"Ale\": 2.9,\n",
    "    \"Wheat Beer\": 3.0,\n",
    "    \"Pilsen\": 2.2,\n",
    "    \"Lager\": 3.1,\n",
    "    \"IPA\": 3.2,\n",
    "    \"Stout\": 3.5,\n",
    "    \"Porter\": 4.0,\n",
    "}\n",
    "margens_de_lucro = {\n",
    "    \"Ale\": 0.50,\n",
    "    \"Wheat Beer\": 0.45,\n",
    "    \"Pilsen\": 0.40,\n",
    "    \"Lager\": 0.55,\n",
    "    \"IPA\": 0.42,\n",
    "    \"Stout\": 0.40,\n",
    "    \"Porter\": 0.45,\n",
    "}"
   ]
  },
  {
   "cell_type": "markdown",
   "metadata": {},
   "source": [
    "# Gerando dados de produção (Lotes)"
   ]
  },
  {
   "cell_type": "code",
   "execution_count": 50,
   "metadata": {},
   "outputs": [
    {
     "name": "stdout",
     "output_type": "stream",
     "text": [
      "     ID_Lote Data_Producao Tipo_Cerveja  Quantidade_Produzida  Custo_Producao  \\\n",
      "0          1    2020-01-01          IPA                  4022     1954.133753   \n",
      "1          2    2020-01-02        Stout                  1791      455.244473   \n",
      "2          3    2020-01-03          Ale                  4750      981.792398   \n",
      "3          4    2020-01-04        Lager                  6781      893.593028   \n",
      "4          5    2020-01-05        Lager                  5775     1328.747803   \n",
      "..       ...           ...          ...                   ...             ...   \n",
      "245      246    2020-09-02        Lager                  6516     1619.187430   \n",
      "246      247    2020-09-03       Pilsen                  7199     1271.491543   \n",
      "247      248    2020-09-04        Lager                  5671     1231.365696   \n",
      "248      249    2020-09-05       Pilsen                  4887      939.288075   \n",
      "249      250    2020-09-06          IPA                  3868     1733.046818   \n",
      "\n",
      "     Preco_Venda  Lote_Ingredientes  Tempo_Fermentacao Data_Validade  \n",
      "0            3.2                105                 11    2021-01-01  \n",
      "1            3.5                192                  6    2021-01-31  \n",
      "2            2.9                176                  2    2021-03-02  \n",
      "3            3.1                126                 13    2021-04-01  \n",
      "4            3.1                183                 12    2021-05-01  \n",
      "..           ...                ...                ...           ...  \n",
      "245          3.1                115                  2    2041-02-15  \n",
      "246          2.2                103                 12    2041-03-17  \n",
      "247          3.1                188                  3    2041-04-16  \n",
      "248          2.2                185                  3    2041-05-16  \n",
      "249          3.2                128                  4    2041-06-15  \n",
      "\n",
      "[250 rows x 9 columns]\n"
     ]
    }
   ],
   "source": [
    "# Gerando dados de produção (Lotes)\n",
    "dados_producao = pd.DataFrame({\n",
    "    \"ID_Lote\": range(1, 251),\n",
    "    \"Data_Producao\": pd.date_range(start=\"2020-01-01\", periods=250, freq='D'),\n",
    "    \"Tipo_Cerveja\": np.random.choice(tipos_cerveja, 250),\n",
    "})\n",
    "\n",
    "# Calculando a quantidade produzida e custo de produção\n",
    "dados_producao['Quantidade_Produzida'] = [np.random.randint(*quantidades[tc]) for tc in dados_producao['Tipo_Cerveja']]\n",
    "dados_producao['Custo_Producao'] = [qtd * np.random.uniform(*custos_por_unidade[tc]) for tc, qtd in zip(dados_producao['Tipo_Cerveja'], dados_producao['Quantidade_Produzida'])]\n",
    "\n",
    "# Calculando o preço de venda\n",
    "dados_producao['Preco_Venda'] = [max(custo / qtd * (1 + margens_de_lucro[tc]), precos_minimos[tc]) for tc, qtd, custo in zip(dados_producao['Tipo_Cerveja'], dados_producao['Quantidade_Produzida'], dados_producao['Custo_Producao'])]\n",
    "\n",
    "# Adicionando outros dados\n",
    "dados_producao['Lote_Ingredientes'] = np.random.randint(100, 200, 250)\n",
    "dados_producao['Tempo_Fermentacao'] = np.random.randint(1, 14, 250)\n",
    "dados_producao['Data_Validade'] = pd.date_range(start=\"2021-01-01\", periods=250, freq='30D')\n",
    "\n",
    "# Mostrar os dados gerados\n",
    "print(dados_producao)\n"
   ]
  },
  {
   "cell_type": "markdown",
   "metadata": {},
   "source": [
    "# Dados de vendas (2000 entradas ao longo de 3 anos)"
   ]
  },
  {
   "cell_type": "code",
   "execution_count": 51,
   "metadata": {},
   "outputs": [
    {
     "name": "stdout",
     "output_type": "stream",
     "text": [
      "   ID_Venda Data_Venda  ID_Cliente  ID_Lote  Quantidade_Vendida  Preco_Venda  \\\n",
      "0         1 2017-01-01         355        2                  74     8.102462   \n",
      "1         2 2017-01-02         441        9                  37    44.551854   \n",
      "2         3 2017-01-03         306      103                  68    32.091285   \n",
      "3         4 2017-01-04         104       98                   6    22.908792   \n",
      "4         5 2017-01-05         297      108                  61     7.886104   \n",
      "\n",
      "    Canal_Venda  \n",
      "0        Online  \n",
      "1  Distribuidor  \n",
      "2  Distribuidor  \n",
      "3   Loja Física  \n",
      "4  Distribuidor  \n"
     ]
    }
   ],
   "source": [
    "# Configurando o intervalo de datas de 2017 a 2023\n",
    "start_date = \"2017-01-01\"\n",
    "end_date = \"2023-12-31\"\n",
    "date_range = pd.date_range(start=start_date, end=end_date, freq='D')\n",
    "\n",
    "# Calculando o número total de dias (vendas) neste intervalo\n",
    "num_vendas = len(date_range)\n",
    "\n",
    "# Gerando a distribuição para o Canal_Venda\n",
    "# Mais de 70% das vendas serão feitas por distribuidores\n",
    "proporcao_distribuidor = 0.7\n",
    "num_distribuidor = int(num_vendas * proporcao_distribuidor)\n",
    "num_outros = num_vendas - num_distribuidor\n",
    "canais = ['Distribuidor'] * num_distribuidor + ['Loja Física', 'Online'] * (num_outros // 2)\n",
    "if num_outros % 2 != 0:  # Se o número de 'outros' for ímpar, adicione mais um 'Loja Física' ou 'Online'\n",
    "    canais.append(np.random.choice(['Loja Física', 'Online']))\n",
    "np.random.shuffle(canais)  # Embaralhar os canais para variar a distribuição\n",
    "\n",
    "# Gerando dados de vendas\n",
    "dados_vendas = pd.DataFrame({\n",
    "    \"ID_Venda\": range(1, num_vendas + 1),\n",
    "    \"Data_Venda\": date_range,\n",
    "    \"ID_Cliente\": np.random.randint(1, 500, num_vendas),\n",
    "    \"ID_Lote\": np.random.choice(dados_producao[\"ID_Lote\"], num_vendas),\n",
    "    \"Quantidade_Vendida\": np.random.randint(1, 100, num_vendas),\n",
    "    \"Preco_Venda\": np.random.uniform(5, 50, num_vendas),\n",
    "    \"Canal_Venda\": canais\n",
    "})\n",
    "\n",
    "# Verificando os primeiros registros para confirmar\n",
    "print(dados_vendas.head())\n"
   ]
  },
  {
   "cell_type": "markdown",
   "metadata": {},
   "source": [
    "# Dados de devolução (13% das vendas)"
   ]
  },
  {
   "cell_type": "code",
   "execution_count": 52,
   "metadata": {},
   "outputs": [],
   "source": [
    "# Gerando dados de devolução\n",
    "quantidade_devolucoes = int(0.13 * len(dados_vendas))\n",
    "dados_devolucao = dados_vendas.sample(n=quantidade_devolucoes).copy()\n",
    "\n",
    "# Renomear coluna e adicionar colunas necessárias\n",
    "dados_devolucao = dados_devolucao.rename(columns={\"Quantidade_Vendida\": \"Quantidade_Devolvida\"})\n",
    "dados_devolucao[\"ID_Devolucao\"] = range(1, quantidade_devolucoes + 1)\n",
    "dados_devolucao[\"Motivo_Devolucao\"] = np.random.choice([\"Defeito\", \"Insatisfação\", \"Outro\"], quantidade_devolucoes)\n",
    "dados_devolucao[\"Estado_Produto\"] = np.random.choice([\"Bom\", \"Danificado\", \"Expirado\"], quantidade_devolucoes)\n",
    "dados_devolucao[\"Reembolso_Emitido\"] = np.random.uniform(5, 50, quantidade_devolucoes)\n",
    "\n",
    "# Removendo colunas que não existem na tabela Devolucoes do banco de dados\n",
    "colunas_a_remover = [coluna for coluna in dados_devolucao.columns if coluna not in ['ID_Devolucao', 'ID_Venda', 'Quantidade_Devolvida', 'Motivo_Devolucao', 'Estado_Produto', 'Reembolso_Emitido']]\n",
    "dados_devolucao = dados_devolucao.drop(columns=colunas_a_remover)\n",
    "\n",
    "# Ajustando a ordem das colunas para corresponder à estrutura da tabela no banco de dados\n",
    "dados_devolucao = dados_devolucao[['ID_Devolucao', 'ID_Venda', 'Quantidade_Devolvida', 'Motivo_Devolucao', 'Estado_Produto', 'Reembolso_Emitido']]\n"
   ]
  },
  {
   "cell_type": "markdown",
   "metadata": {},
   "source": [
    "# Dados de feedback (gerados aleatoriamente)"
   ]
  },
  {
   "cell_type": "code",
   "execution_count": 53,
   "metadata": {},
   "outputs": [
    {
     "name": "stdout",
     "output_type": "stream",
     "text": [
      "      ID_Devolucao  ID_Venda  Quantidade_Devolvida Motivo_Devolucao  \\\n",
      "2531             1      2532                    16          Defeito   \n",
      "489              2       490                    95          Defeito   \n",
      "368              3       369                    77            Outro   \n",
      "1901             4      1902                     6            Outro   \n",
      "199              5       200                    42          Defeito   \n",
      "...            ...       ...                   ...              ...   \n",
      "404            328       405                    20          Defeito   \n",
      "1990           329      1991                    89     Insatisfação   \n",
      "172            330       173                     7          Defeito   \n",
      "297            331       298                    62          Defeito   \n",
      "2285           332      2286                    13     Insatisfação   \n",
      "\n",
      "     Estado_Produto  Reembolso_Emitido  \n",
      "2531            Bom          33.988999  \n",
      "489      Danificado          37.105209  \n",
      "368             Bom          23.747171  \n",
      "1901       Expirado          47.463948  \n",
      "199      Danificado          12.513357  \n",
      "...             ...                ...  \n",
      "404        Expirado          22.544252  \n",
      "1990            Bom          49.414910  \n",
      "172        Expirado          26.594220  \n",
      "297             Bom          42.120464  \n",
      "2285            Bom          46.836812  \n",
      "\n",
      "[332 rows x 6 columns]\n"
     ]
    }
   ],
   "source": [
    "# Gerando dados de feedback\n",
    "quantidade_feedbacks = random.randint(100, 300)\n",
    "dados_feedback = pd.DataFrame({\n",
    "    \"ID_Feedback\": range(1, quantidade_feedbacks + 1),\n",
    "    \"Data_Feedback\": pd.date_range(start=\"2020-01-01\", end=\"2020-12-31\", periods=quantidade_feedbacks),\n",
    "    \"ID_Venda\": np.random.choice(dados_vendas[\"ID_Venda\"], quantidade_feedbacks),\n",
    "    \"Tipo_Feedback\": np.random.choice([\"Produto\", \"Serviço\", \"Entrega\"], quantidade_feedbacks),\n",
    "    \"Descricao_Feedback\": np.random.choice([\"Excelente\", \"Bom\", \"Médio\", \"Ruim\", \"Péssimo\"], quantidade_feedbacks),\n",
    "    \"Resposta_Cervejaria\": np.random.choice([\"Resolvido\", \"Pendente\", \"Ignorado\"], quantidade_feedbacks)\n",
    "})\n",
    "print(dados_devolucao)"
   ]
  },
  {
   "cell_type": "code",
   "execution_count": 54,
   "metadata": {},
   "outputs": [
    {
     "name": "stdout",
     "output_type": "stream",
     "text": [
      "     ID_Lote Data_Producao Tipo_Cerveja  Quantidade_Produzida  Custo_Producao  \\\n",
      "0          1    2020-01-01          IPA                  4022     1954.133753   \n",
      "1          2    2020-01-02        Stout                  1791      455.244473   \n",
      "2          3    2020-01-03          Ale                  4750      981.792398   \n",
      "3          4    2020-01-04        Lager                  6781      893.593028   \n",
      "4          5    2020-01-05        Lager                  5775     1328.747803   \n",
      "..       ...           ...          ...                   ...             ...   \n",
      "245      246    2020-09-02        Lager                  6516     1619.187430   \n",
      "246      247    2020-09-03       Pilsen                  7199     1271.491543   \n",
      "247      248    2020-09-04        Lager                  5671     1231.365696   \n",
      "248      249    2020-09-05       Pilsen                  4887      939.288075   \n",
      "249      250    2020-09-06          IPA                  3868     1733.046818   \n",
      "\n",
      "     Preco_Venda  Lote_Ingredientes  Tempo_Fermentacao Data_Validade  \n",
      "0            3.2                105                 11    2021-01-01  \n",
      "1            3.5                192                  6    2021-01-31  \n",
      "2            2.9                176                  2    2021-03-02  \n",
      "3            3.1                126                 13    2021-04-01  \n",
      "4            3.1                183                 12    2021-05-01  \n",
      "..           ...                ...                ...           ...  \n",
      "245          3.1                115                  2    2041-02-15  \n",
      "246          2.2                103                 12    2041-03-17  \n",
      "247          3.1                188                  3    2041-04-16  \n",
      "248          2.2                185                  3    2041-05-16  \n",
      "249          3.2                128                  4    2041-06-15  \n",
      "\n",
      "[250 rows x 9 columns]\n"
     ]
    }
   ],
   "source": [
    "print(dados_producao)"
   ]
  },
  {
   "cell_type": "code",
   "execution_count": 55,
   "metadata": {},
   "outputs": [],
   "source": [
    "# Verificando se a coluna 'Preco_Venda' existe em 'dados_producao' antes de tentar removê-la\n",
    "if 'Preco_Venda' in dados_producao.columns:\n",
    "    dados_producao = dados_producao.drop(columns=['Preco_Venda'])\n",
    "\n",
    "# Removendo as colunas desnecessárias de 'dados_devolucao' e adicionando 'Reembolso_Emitido'\n",
    "if 'Data_Venda' in dados_devolucao.columns:\n",
    "    dados_devolucao = dados_devolucao.drop(columns=['Data_Venda', 'ID_Cliente', 'Preco_Venda', 'Canal_Venda'])\n",
    "\n",
    "dados_devolucao['Reembolso_Emitido'] = dados_devolucao['Motivo_Devolucao'].apply(lambda x: 1.0 if x in ['Defeito', 'Insatisfação'] else 0.0)\n"
   ]
  },
  {
   "cell_type": "markdown",
   "metadata": {},
   "source": [
    "## Inserindo dados faltantes no dataframe de feedback\n",
    "\n"
   ]
  },
  {
   "cell_type": "code",
   "execution_count": 56,
   "metadata": {},
   "outputs": [
    {
     "name": "stdout",
     "output_type": "stream",
     "text": [
      "Conexão com o PostgreSQL estabelecida\n"
     ]
    }
   ],
   "source": [
    "# Carrega as variáveis de ambiente do arquivo .env\n",
    "load_dotenv()\n",
    "\n",
    "# Obtém as informações de conexão do arquivo .env\n",
    "host = os.getenv('DB_HOST', 'localhost')\n",
    "porta = os.getenv('DB_PORT', '5432')\n",
    "dbname = os.getenv('DB_NAME', 'postgres')\n",
    "usuario = os.getenv('DB_USER', 'postgres')\n",
    "senha = os.getenv('DB_PASSWORD', 'default_password')\n",
    "\n",
    "def create_connection(host_name, port, database_name, user_name, user_password):\n",
    "    connection = None\n",
    "    try:\n",
    "        connection = psycopg2.connect(\n",
    "            host=host_name,\n",
    "            port=port,\n",
    "            dbname=database_name,\n",
    "            user=user_name,\n",
    "            password=user_password\n",
    "        )\n",
    "        print(\"Conexão com o PostgreSQL estabelecida\")\n",
    "    except OperationalError as e:\n",
    "        print(f\"Ocorreu um erro ao conectar ao PostgreSQL: {e}\")\n",
    "    return connection\n",
    "\n",
    "# Estabelecendo a conexão\n",
    "conn = create_connection(host, porta, dbname, usuario, senha)\n",
    "\n",
    "# Lembre-se de fechar a conexão quando terminar\n",
    "# conn.close()"
   ]
  },
  {
   "cell_type": "code",
   "execution_count": 57,
   "metadata": {},
   "outputs": [],
   "source": [
    "def create_tables(connection):\n",
    "    cursor = connection.cursor()\n",
    "\n",
    "    # Criação da tabela de produção\n",
    "    cursor.execute(\"\"\"\n",
    "    CREATE TABLE IF NOT EXISTS Producao (\n",
    "        ID_Lote INTEGER PRIMARY KEY,\n",
    "        Tipo_Cerveja TEXT,\n",
    "        Data_Producao DATE,\n",
    "        Quantidade_Produzida INTEGER,\n",
    "        Custo_Producao REAL,\n",
    "        Lote_Ingredientes TEXT,\n",
    "        Tempo_Fermentacao INTEGER,\n",
    "        Data_Validade DATE\n",
    "    )\n",
    "    \"\"\")\n",
    "\n",
    "    # Criação da tabela de vendas\n",
    "    cursor.execute(\"\"\"\n",
    "    CREATE TABLE IF NOT EXISTS Vendas (\n",
    "        ID_Venda INTEGER PRIMARY KEY,\n",
    "        ID_Lote INTEGER,\n",
    "        Data_Venda DATE,\n",
    "        Quantidade_Vendida INTEGER,\n",
    "        Preco_Venda REAL,\n",
    "        ID_Cliente INTEGER,\n",
    "        Canal_Venda TEXT,\n",
    "        FOREIGN KEY (ID_Lote) REFERENCES Producao (ID_Lote)\n",
    "    )\n",
    "    \"\"\")\n",
    "\n",
    "    # Criação da tabela de devoluções\n",
    "    cursor.execute(\"\"\"\n",
    "    CREATE TABLE IF NOT EXISTS Devolucoes (\n",
    "        ID_Devolucao INTEGER PRIMARY KEY,\n",
    "        ID_Venda INTEGER,\n",
    "        Quantidade_Devolvida INTEGER,\n",
    "        Motivo_Devolucao TEXT,\n",
    "        Estado_Produto TEXT,\n",
    "        Reembolso_Emitido REAL,\n",
    "        FOREIGN KEY (ID_Venda) REFERENCES Vendas (ID_Venda)\n",
    "    )\n",
    "    \"\"\")\n",
    "\n",
    "    # Criação da tabela de feedback\n",
    "    cursor.execute(\"\"\"\n",
    "    CREATE TABLE IF NOT EXISTS Feedback (\n",
    "        ID_Feedback INTEGER PRIMARY KEY,\n",
    "        Data_Feedback DATE,\n",
    "        ID_Cliente INTEGER,\n",
    "        Tipo_Feedback TEXT,\n",
    "        Descricao_Feedback TEXT,\n",
    "        Resposta_Cervejaria TEXT,\n",
    "        ID_Venda INTEGER,\n",
    "        FOREIGN KEY (ID_Venda) REFERENCES Vendas (ID_Venda)\n",
    "    )\n",
    "    \"\"\")\n",
    "\n",
    "    connection.commit()\n",
    "    cursor.close()\n"
   ]
  },
  {
   "cell_type": "code",
   "execution_count": 58,
   "metadata": {},
   "outputs": [],
   "source": [
    "def insert_data(df, table_name, connection):\n",
    "    cursor = connection.cursor()\n",
    "    placeholders = ', '.join(['%s'] * len(df.columns))\n",
    "    columns = ', '.join(df.columns)\n",
    "    query = f\"INSERT INTO {table_name} ({columns}) VALUES ({placeholders})\"\n",
    "    try:\n",
    "        for row in df.itertuples(index=False, name=None):\n",
    "            cursor.execute(query, row)\n",
    "        connection.commit()\n",
    "    except psycopg2.DatabaseError as e:\n",
    "        print(f\"Erro ao inserir dados na tabela {table_name}: {e}\")\n",
    "        connection.rollback()  # Reverter a transação em caso de erro\n",
    "    finally:\n",
    "        cursor.close()\n",
    "\n",
    "# Inserir dados\n",
    "insert_data(dados_producao, 'Producao', conn)\n",
    "insert_data(dados_vendas, 'Vendas', conn)\n",
    "insert_data(dados_devolucao, 'Devolucoes', conn)  # Inclua todas as colunas do DataFrame\n",
    "insert_data(dados_feedback, 'Feedback', conn)"
   ]
  },
  {
   "cell_type": "code",
   "execution_count": 59,
   "metadata": {},
   "outputs": [],
   "source": [
    "conn.close()"
   ]
  }
 ],
 "metadata": {
  "kernelspec": {
   "display_name": "DataScienceEnv",
   "language": "python",
   "name": "python3"
  },
  "language_info": {
   "codemirror_mode": {
    "name": "ipython",
    "version": 3
   },
   "file_extension": ".py",
   "mimetype": "text/x-python",
   "name": "python",
   "nbconvert_exporter": "python",
   "pygments_lexer": "ipython3",
   "version": "3.10.12"
  }
 },
 "nbformat": 4,
 "nbformat_minor": 2
}
